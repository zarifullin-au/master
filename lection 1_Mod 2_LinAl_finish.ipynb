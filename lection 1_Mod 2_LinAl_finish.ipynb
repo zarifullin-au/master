{
 "cells": [
  {
   "cell_type": "markdown",
   "metadata": {
    "colab_type": "text",
    "id": "zz7SDkPIkVlM"
   },
   "source": [
    "# Математические основы анализа данных. \n",
    "\n",
    "## Часть 2. Линейная алгебра"
   ]
  },
  {
   "cell_type": "markdown",
   "metadata": {
    "colab_type": "text",
    "id": "p_3vqG5-kVlP"
   },
   "source": [
    "# Линейное пространство. Основные понятия линейной алгебры. "
   ]
  },
  {
   "cell_type": "markdown",
   "metadata": {},
   "source": [
    "В машинном обучении (и в науке о данных),  во главе угла стоят **ДАННЫЕ**. Без них невозможен был бы никакой анализ, не было бы машинного обучения и глубокого обучения, не было бы искусственного интеллекта в современном его понимании.\n",
    "Данные часто очень удобно представлять в виде векторов и матриц (а при разработке моделей машинного обучения -- параметры этих моделей тоже всегда удобно представлять в виде матрицы), и появилась связь Deep Learning и Линейной алгебры (спойлер: нейросети есть просто набор матриц, взаимодействующих друг с другом определённым образом)."
   ]
  },
  {
   "cell_type": "markdown",
   "metadata": {},
   "source": [
    "<img src=\"http://www.pvsm.ru/images/2018/07/26/instrumenty-Apple-dlya-mashinnogo-obucheniya-14.png\" width=500, height=300>\n",
    "\n",
    "<p style=\"text-align:center\">-- матрица. <br>Одна строчка этой матрицы -- это вектор. Один столбец этой матрицы -- тоже вектор.</p>"
   ]
  },
  {
   "cell_type": "markdown",
   "metadata": {},
   "source": [
    "[Wikipedia](https://ru.wikipedia.org/wiki/%D0%9B%D0%B8%D0%BD%D0%B5%D0%B9%D0%BD%D0%B0%D1%8F_%D0%B0%D0%BB%D0%B3%D0%B5%D0%B1%D1%80%D0%B0)  \n",
    "**Лине́йная а́лгебра** — раздел алгебры, изучающий объекты линейной природы: векторные (или линейные) пространства, линейные отображения, системы линейных уравнений, среди основных инструментов, используемых в линейной алгебре — определители, матрицы, сопряжение."
   ]
  },
  {
   "cell_type": "markdown",
   "metadata": {},
   "source": [
    "**Ве́кторное (или лине́йное) простра́нство** — математическая структура, которая представляет собой набор элементов, называемых **векторами**, для которых определены операции сложения друг с другом и умножения на число — **скаляр**. "
   ]
  },
  {
   "cell_type": "markdown",
   "metadata": {},
   "source": [
    "<img src=\"https://upload.wikimedia.org/wikipedia/commons/thumb/8/83/VectorAB.svg/1200px-VectorAB.svg.png\" width=300 hight=300>\n",
    "\n",
    "Если посмотреть на аналитическую запись, то это будут какие-то два числа, характеризующие вектор. Например, $v = (5, -4)$, или $m = (0, 100)$, это будут вектора **на плоскости**, иначе говоря, элементы линейного пространства размерности 2 (две координаты).\n",
    "\n",
    "Однако что будет, если мы повысим размерность?  \n",
    "-----> Просто вырастет количество координат, которыми представляется вектор. \n",
    "\n",
    "Например, в пространстве размерности 3 это всё ещё будет направленный отрезок. \n",
    "\n",
    "Однако пространства большей размерности нам представить визуально уже сложно. Но на математическом языке вектор, принадлежащий пространству размерности 15, будет ни чем иным, как просто набором из 15 упорядоченных чисел: $a = (1,1,1,1,1,1,1,1,1,1,1,1,1,1,1)$"
   ]
  },
  {
   "cell_type": "markdown",
   "metadata": {},
   "source": [
    "_Линейным (векторным) пространством_ $\\mathit{V}$ над некоторым полем $K$ называется множество элементов, называемых векторами, с заданными на нем операциями\n",
    "\n",
    "- сложения: $V \\times V \\rightarrow V$ (любым двум элементам $u$ и $v$ множества $V$ ставится в соответствие третий элемент $w$ этого же множества, называемый _суммой_ элементов $u$ и $v$ и обозначаемый $w=u+v$);\n",
    "\n",
    "- умножения на число: $K \\times V \\rightarrow V$ (любому элементу $u$ множества $V$ и любому вещественному числу $\\lambda$ ставится в соответствие элемент $x$ этого же множества, называемый _произведением элемента $u$ на число_ $\\lambda$ и обозначаемый $x=\\lambda u$ или $x=u\\lambda$).\n",
    "\n"
   ]
  },
  {
   "cell_type": "markdown",
   "metadata": {
    "colab_type": "text",
    "id": "kXP1CeOrkVlT"
   },
   "source": [
    "В качестве поля, над которым задается векторное пространство, обычно выбирают множество вещественных чисел $\\mathbb{R}$ или комплексных чисел $\\mathbb{C}$. Элементы такого поля иногда называют _скалярами_."
   ]
  },
  {
   "cell_type": "markdown",
   "metadata": {
    "colab_type": "text",
    "id": "Sgf3itexkVlV"
   },
   "source": [
    "Операция сложения векторов должна удовлетворять следующим условиям:<br>\n",
    "1) коммутативность: $u+v=v+u$;<br>\n",
    "2) ассоциативность: $(u+v)+w=u+(v+w)$;<br>\n",
    "3) существование такого элемента $0\\in V$, что $u+0=u$ для любого $u$;<br>\n",
    "4) существование для любого $u\\in V$ такого вектора $-u\\in V$, что $u+(-u)=0$.\n",
    "\n",
    "Операция умножения вектора на скаляр должна подчиняться следующим условиям:<br>\n",
    "1) $1\\cdot u=u$ для любого $u\\in V$;<br>\n",
    "2) ассоциативность операции умножения на скаляр: $\\lambda (\\mu \\cdot u)=(\\lambda \\cdot \\mu) u$;<br>\n",
    "3) дистрибутивность относительно сложения векторов: $\\lambda(u+v)=\\lambda u+\\lambda v$;<br>\n",
    "4) дистрибутивность относительно сложения скаляров: $(\\lambda+\\mu)u=\\lambda u+\\mu u$."
   ]
  },
  {
   "cell_type": "markdown",
   "metadata": {
    "colab_type": "text",
    "id": "-P4xroqzkVlX"
   },
   "source": [
    "Элемент $0$ называется _нулевым вектором_, элемент $-u$ называется _противоположным вектором_ к $u$."
   ]
  },
  {
   "cell_type": "markdown",
   "metadata": {
    "colab_type": "text",
    "id": "ZvG2QN1KkVlY"
   },
   "source": [
    "### Примеры"
   ]
  },
  {
   "cell_type": "markdown",
   "metadata": {
    "colab_type": "text",
    "id": "r2pgbJZUkVla"
   },
   "source": [
    "__1.__ Самым известным примером линейного пространства является множество всех свободных векторов на плоскости. В аналитической геометрии операция сложения двух таких векторов $u+v$ определена по «правилу параллелограмма», а умножению вектора $u$ на число $\\lambda$ соответствует вектор $\\lambda u$, имеющий в $|\\lambda|$ раз большую длину по сравнению с исходным вектором $u$ и то же направление, если $\\lambda > 0$, и противоположное, если $\\lambda < 0$.\n",
    "\n",
    "Соответствие этих операций условиям для линейного пространства проверяется элементарно. Таким образом, это множество является линейным пространством. Аналогично множества векторов на прямой и в пространстве также будут являться линейными пространствами."
   ]
  },
  {
   "cell_type": "markdown",
   "metadata": {
    "colab_type": "text",
    "id": "FPhzlMj1kVld"
   },
   "source": [
    "__2.__ Рассмотрим в качестве примера теперь множество точек на координатной плоскости. Возьмем точку $a$, которой соответствуют координаты $(a_{1},a_{2})$, и точку $b$, которой соответствуют координаты $(b_{1},b_{2})$. Зададим в этом пространстве операцию сложения как покоординатную сумму двух элементов:\n",
    "\n",
    "$$a+b = (a_{1}+b_{1}, a_{2}+b_{2})$$\n",
    "\n",
    "и операцию умножения элемента на число как умножение каждой его координаты на это число:\n",
    "\n",
    "$$\\lambda a=\\lambda(a_{1},a_{2})=(\\lambda a_{1}, \\lambda a_{2}).$$\n",
    "$a~+~b = (a_1, a_2, .., a_n) + (b_1, b_2, .., b_n) = (a_1 + b_1, a_2 + b_2, .., b_n + b_n)$\n",
    "\n",
    "Вектор + Вектор = **Вектор**\n",
    "\n",
    "$a~-~b = (a_1, a_2, .., a_n) - (b_1, b_2, .., b_n) = (a_1 - b_1, a_2 - b_2, .., b_n - b_n)$\n",
    "\n",
    "Вектор - Вектор = **Вектор**\n",
    "\n",
    "**Примеры:**\n",
    "\n",
    "$(-15, 10) - (5, 6) = (-20, 4)$  \n",
    "\n",
    "$(1, 0, 100) + (2, 3, 1000) = (3, 3, 1100)$\n"
   ]
  },
  {
   "cell_type": "markdown",
   "metadata": {},
   "source": [
    "Такое пространство над полем вещественных чисел с заданными операциями сложения и умножения на число будет соответствовать условиям векторного пространства и обычно обозначается $\\mathbb{R}^{2}$.\n",
    "\n",
    "В общем виде это можно представить как пространство $\\mathbb{R}^{n}$ — множество упорядоченных последовательностей длины $n$ элементов поля $\\mathbb{R}$. Сложение и умножение на число элементов его определяются покомпонентно: \n",
    " \n",
    " $$(a_{1},a_{2}, ... ,a_{n})+(b_{1}, b_{2},...,b_{n})=(a_{1}+b_{1}, a_{2}+b_{2}, ..., a_{n}+b_{n}), \\\\\n",
    "\\lambda(a_{1},a_{2},...,a_{n})=(\\lambda a_{1}, \\lambda a_{2},...,\\lambda a_{n}).$$\n",
    " \n",
    " \n",
    "Получившееся линейное пространство называют _n-мерным координатным пространством_."
   ]
  },
  {
   "cell_type": "markdown",
   "metadata": {
    "colab_type": "text",
    "id": "A2jb9zMTkVlf"
   },
   "source": [
    "__3.__ Примером линейного пространства может служить множество $\\left \\{P_{n}(t)\\right \\}$ всех алгебраических многочленов степени не выше $n$ с операциями сложения и умножения на вещественные числа, определенными по обычным правилам математического анализа."
   ]
  },
  {
   "cell_type": "markdown",
   "metadata": {
    "colab_type": "text",
    "id": "Rp3y5MZSkVlh"
   },
   "source": [
    "Другие примеры векторных пространств:<br>\n",
    "1) множество $C[a,b]$ всех функций $u=u(t)$, определенных и непрерывных на сегменте $[a,b]$;<br>\n",
    "2) множество всех решений однородной системы  $m$ уравнений с $n$ неизвестными."
   ]
  },
  {
   "cell_type": "markdown",
   "metadata": {},
   "source": [
    "### Машинное обучение:\n",
    "\n",
    "\n",
    "С помощью векторов описываются объекты\n",
    "\n",
    "Вектор- для признакового описания объектов(набор чисел)\n",
    "\n",
    "Векторное пространство-множество векторов(характеристик объекта)  с двумя операциями и рядом аксиом\n",
    "\n",
    "Объект-вектор - 1 клиент банка с признаковым описанием.\n",
    "\n",
    "\n",
    "Вектор- столбец признак         . \n"
   ]
  },
  {
   "cell_type": "code",
   "execution_count": null,
   "metadata": {},
   "outputs": [],
   "source": []
  },
  {
   "cell_type": "markdown",
   "metadata": {
    "colab_type": "text",
    "id": "xQjEkghMkVll"
   },
   "source": [
    "## Линейная зависимость векторов-связь между векторами признаков------> избыточность информации и искажение результатов исследований"
   ]
  },
  {
   "cell_type": "markdown",
   "metadata": {
    "colab_type": "text",
    "id": "Hw7QEAZHkVln"
   },
   "source": [
    "__Определение__\n",
    "\n",
    "Основным понятием линейной алгебры является _линейная зависимость (независимость)_ векторов.\n",
    "Векторы $u_{1},u_{2}, ...,u_{n}$ являются _линейно зависимыми_, если найдутся такие числа $\\lambda_{1}, \\lambda_{2}, ..., \\lambda_{n}$, что хотя бы одно из них отлично от нуля и \n",
    " \n",
    " \n",
    "$$\\lambda_{1}u_{1}+\\lambda_{2}u_{2}+...+\\lambda_{n}u_{n}=0.$$"
   ]
  },
  {
   "cell_type": "markdown",
   "metadata": {
    "colab_type": "text",
    "id": "Y1TTlxSTkVlp"
   },
   "source": [
    "Выражение $\\sum_{t=1}^{n}\\lambda_{t}u_{t}$ называется _линейной комбинацией_ элементов $u_{1},u_{2},...,u_{n}$ пространства $V$."
   ]
  },
  {
   "cell_type": "markdown",
   "metadata": {
    "colab_type": "text",
    "id": "oIX-LImokVlq"
   },
   "source": [
    "Элементы $u_{1},u_{2},...,u_{n}$ векторного пространства $V$ называются _линейно независимыми_, если равенство $\\sum_{t=1}^{n}\\lambda_{t}u_{t}=0$ выполняется только тогда, когда $\\lambda_{1}= \\lambda_{2}= ...= \\lambda_{n}=0$.\n",
    "\n",
    "\n",
    " \n",
    "ВЕКТОРЫ ЗАВИСИМЫ, ЕСЛИ ОДИН ИЗ НИХ ЛИНЕЙНО ВЫРАЖАЕТСЯ ЧЕРЕЗ ДРУГИЕ"
   ]
  },
  {
   "cell_type": "markdown",
   "metadata": {
    "colab_type": "text",
    "id": "MiJZbSBqkVls"
   },
   "source": [
    "__Если для данной системы ненулевых векторов существует нетривиальная (если хотя бы один из коэффициентов отличен от нуля) линейная комбинация, то каждый из этих векторов может быть выражен через линейную комбинацию остальных.__\n",
    "\n",
    "Справедливо и обратное утверждение: __для того, чтобы некоторое множество элементов линейного пространства было линейно зависимым, необходимо и достаточно, чтобы один из этих элементов являлся линейной комбинацией остальных.__"
   ]
  },
  {
   "cell_type": "markdown",
   "metadata": {
    "colab_type": "text",
    "id": "CQ5LW940kVly"
   },
   "source": [
    "\n",
    "\n",
    "Справедливы два элементарных утверждения:\n",
    "\n",
    "1. _Если среди элементов $a_{1}, a_{2},...,a_{n}$ есть нулевой элемент, то эти элементы линейно зависимы._\n",
    "\n",
    "В самом деле, если, например, $a_{1} =0$, то линейная комбинация элементов будет равняться нулю при $\\lambda_{1}=1, \\lambda_{2}= ...= \\lambda_{n}=0$.\n",
    "\n",
    "\n",
    "\n",
    "Равносильно= один вектор нулевой-признаки нулевые- избыточное пространство\n",
    "\n",
    "2. _Если некоторое подмножество множества $a_{1}, a_{2},...,a_{n}$ линейно зависимо, то и все элементы $a_{1}, a_{2},...,a_{n}$ линейно зависимы_.\n",
    "\n",
    "В самом деле, допустим, что линейно зависимое подмножество состоит из первых $k<n$ элементов множества. Тогда существуют не равные нулю одновременно числа $\\lambda_{1}, \\lambda_{2},...,\\lambda_{k}$, такие, что \n",
    "\n",
    "$$\\sum_{i=1}^{k}\\lambda_{i}a_{i}=0.$$\n",
    "\n",
    "Это равенство также можно записать в виде $$\\sum_{i=1}^{k}\\lambda_{i}a_{i}+\\sum_{i=k+1}^{n} 0 a_{i}=0,$$\n",
    "что говорит о линейной зависимости векторов $a_{1}, a_{2},...,a_{n}$. Что и требовалось доказать."
   ]
  },
  {
   "cell_type": "markdown",
   "metadata": {
    "colab_type": "text",
    "id": "InO6qdVLkVl2"
   },
   "source": [
    "Вернемся к примеру с векторами на плоскости. В этом случае любые два ненулевых и неколлинеарных (не параллельных и не лежащих на одной прямой) вектора будут линейно независимы, так как нельзя выразить один через другой, а уже любые три вектора будут линейно зависимы — каждый из них можно будет выразить через линейную комбинацию двух других."
   ]
  },
  {
   "attachments": {
    "image.png": {
     "image/png": "[encoded data removed]"
    }
   },
   "cell_type": "markdown",
   "metadata": {},
   "source": [
    "![image.png](attachment:image.png)"
   ]
  },
  {
   "attachments": {
    "image.png": {
     "image/png": "[encoded data removed]"
    }
   },
   "cell_type": "markdown",
   "metadata": {},
   "source": [
    "![image.png](attachment:image.png)"
   ]
  },
  {
   "cell_type": "markdown",
   "metadata": {
    "colab_type": "text",
    "id": "MnDnzhFHkVl5"
   },
   "source": [
    "## Базис и размерность"
   ]
  },
  {
   "cell_type": "markdown",
   "metadata": {
    "colab_type": "text",
    "id": "5RntR-fakVl8"
   },
   "source": [
    "__Определение__\n",
    "\n",
    "Совокупность $n$ линейно независимых векторов линейного пространства $V$ будет называться _базисом_ этого пространства, если для каждого элемента $u$ пространства $V$ найдутся такие вещественные числа $\\xi_{1},\\xi_{2},. . . , \\xi_{n}$, что справедливо равенство\n",
    "\n",
    "$$u = \\xi_{1}e_{1} + \\xi_{2}e_{2} + . . . + \\xi_{n}e_{n}.$$\n",
    "\n",
    "Коэффициенты $\\xi_{i}$ в этом выражении называются _координатами_ вектора $u$ в базисе $e_{1} , . . . , e_{n}$, а само такое представление вектора $u$ называется _разложением этого вектора по базису_."
   ]
  },
  {
   "cell_type": "markdown",
   "metadata": {
    "colab_type": "text",
    "id": "QIrP3SU5kVmE"
   },
   "source": [
    "__Для каждого элемента линейного пространства $V$ существует единственное представление в виде линейной комбинации базисных элементов.__"
   ]
  },
  {
   "cell_type": "markdown",
   "metadata": {
    "colab_type": "text",
    "id": "8AqY4a4MkVmH"
   },
   "source": [
    "__Определение__\n",
    "\n",
    "Линейное пространство $V$ называется _$n$-мерным_, если в нем существует $n$ линейно независимых векторов, а любой набор из большего количества векторов оказывается линейно зависимым. При этом число $n$ называется _размерностью_ этого линейного пространства и обозначается $dim V$."
   ]
  },
  {
   "cell_type": "markdown",
   "metadata": {
    "colab_type": "text",
    "id": "0fqFu0aPkVmI"
   },
   "source": [
    "__Определение__\n",
    "\n",
    "Линейное пространство $V$ называется _бесконечномерным_, если в нем существует любое число линейно независимых элементов."
   ]
  },
  {
   "cell_type": "markdown",
   "metadata": {
    "colab_type": "text",
    "id": "ZS1nwlq0kVmK"
   },
   "source": [
    "Базис линейного пространства $\\mathbb{R}^{n}$, состоящий из векторов $e_{1}=(1,0,...,0), \\; e_{2}=(0,1,...,0), ...,e_{n}=(0,0,...,1)$, называется _стандартным базисом_ этого пространства."
   ]
  },
  {
   "cell_type": "markdown",
   "metadata": {
    "colab_type": "text",
    "id": "Z46WpSWZkVmP"
   },
   "source": [
    "__Теорема__\n",
    "\n",
    "Если $V$ — линейное пространство размерности $n$, то любые $n$ линейно независимых элементов этого пространства образуют его базис."
   ]
  },
  {
   "attachments": {
    "image.png": {
     "image/png": "[encoded data removed]"
    }
   },
   "cell_type": "markdown",
   "metadata": {},
   "source": [
    "![image.png](attachment:image.png)"
   ]
  },
  {
   "cell_type": "markdown",
   "metadata": {
    "colab_type": "text",
    "id": "spBkK4XakVmZ"
   },
   "source": [
    "## Подпространства линейного пространства"
   ]
  },
  {
   "cell_type": "markdown",
   "metadata": {
    "colab_type": "text",
    "id": "7konrCaZkVma"
   },
   "source": [
    "Подмножество $L$ линейного пространства $V$ называют _подпространством линейного пространства_, если оно образует линейное пространство относительно операций, определенных на $V$."
   ]
  },
  {
   "cell_type": "markdown",
   "metadata": {
    "colab_type": "text",
    "id": "frmuaH3ukVmr"
   },
   "source": [
    "Другими словами, для подпространства должны выполняться все те же аксиомы, что и для исходного линейного пространства. Из этого следует, что подпространство линейного пространства и само по себе является линейным пространством."
   ]
  },
  {
   "cell_type": "markdown",
   "metadata": {
    "colab_type": "text",
    "id": "FN1D1eM3kVmt"
   },
   "source": [
    "__Примеры__\n",
    "\n",
    "- Подмножество всех свободных векторов, параллельных некоторой плоскости, является подпространством линейного пространства всех свободных векторов в трехмерном пространстве.\n",
    "\n",
    "- Линейное пространство $\\left\\{P_{n}(t)\\right\\}$ всех алгебраических многочленов степени не выше $n$ является подпространством линейного пространства $C[a,b]$ всех функций $u=u(t)$, определенных и непрерывных на сегменте $a\\leq t \\leq b$.\n",
    "\n",
    "- Подпространством любого линейного пространства будет:\n",
    "\n",
    "    а) само линейное пространство;\n",
    "    \n",
    "    б) множество, состоящее из одного нулевого элемента."
   ]
  },
  {
   "cell_type": "markdown",
   "metadata": {
    "colab_type": "text",
    "id": "bxtLt-bdkVmu"
   },
   "source": [
    "__Утверждение__\n",
    "\n",
    "Подмножество $L$ линейного пространства $V$ является его подпространством тогда и только тогда, когда для любых элементов $u, v\\in L$ и любого $\\alpha \\in \\mathbb{R}$ выполняются условия:\n",
    "\n",
    "$$1)\\ u+v\\in L;$$\n",
    "\n",
    "$$2)\\ \\alpha\\cdot u \\in L.$$\n",
    "\n"
   ]
  },
  {
   "cell_type": "markdown",
   "metadata": {
    "colab_type": "text",
    "id": "RqfGOqzzkVmv"
   },
   "source": [
    "__Пример__\n",
    "\n",
    "Определим, будут ли являться подпространствами линейного пространства $\\mathbb{R}^{3}$ следующие множества:\n",
    "\n",
    "   а) множество всех векторов вида $(0, a, b)$;\n",
    "   \n",
    "   б) множество всех векторов вида $(1, a, b)$.\n",
    "    \n",
    "__Решение__\n",
    "\n",
    "1. Проведя проверку по приведенному утверждению, мы увидим, что \n",
    "\n",
    "$$(0, a, b)+(0, c, d) = (0, a+c, b+d),$$ $$\\alpha\\cdot (0, a, b) = (0, \\alpha a, \\alpha b).$$\n",
    "\n",
    "\n",
    "Полученные векторы также принадлежат указанному в задании множеству всех векторов вида $(0, a, b)$, то есть данное множество является подпространством линейного пространства $\\mathbb{R}^{3}$.\n",
    "\n",
    "2. Проведя проверку по приведенному утверждению, мы увидим, что \n",
    "\n",
    "$$(1, a, b)+(1, c, d) = (2, a+c, b+d),$$ $$\\alpha\\cdot (1, a, b) = (\\alpha, \\alpha a, \\alpha b).$$\n",
    "\n",
    "\n",
    "Полученные векторы уже не принадлежат указанному в задании множеству всех векторов вида $(1, a, b)$, то есть данное множество не является подпространством линейного пространства $\\mathbb{R}^{3}$."
   ]
  },
  {
   "cell_type": "markdown",
   "metadata": {
    "colab_type": "text",
    "id": "rL-3xO5XkVnB"
   },
   "source": [
    "__Определение__\n",
    "\n",
    "Пусть даны два подпространства  $V_{1}$ и $V_{2}$ линейного пространства $V$. Тогда: \n",
    "\n",
    "1. _Объединением подпространств_ $V_{1}$ и $V_{2}$ называется множество элементов $x\\in V$, таких,\n",
    "что $x\\in V_{1}$ либо $x\\in V_{2}$. Объединение подпространств $V_{1}$ и $V_{2}$ обозначается $V_{1}\\cup V_{2}$. \n",
    "\n",
    "\n",
    "2. _Пересечением подпространств_ $V_{1}$ и $V_{2}$ называется множество элементов $x\\in V$, принадлежащих $V_{1}$ и $V_{2}$ одновременно. Пересечение подпространств $V_{1}$ и $V_{2}$ обозначается $V_{1}\\cap V_{2}$.\n",
    "\n",
    "\n",
    "3. _Суммой подпространств_ $V_{1}$ и $V_{2}$ называется совокупность всех элементов $x_{1}+x_{2}\\in V$ при условии, что $x_{1}\\in V_{1}$ и $x_{2}\\in V_{2}$. Сумма подпространств $V_{1}$ и $V_{2}$ обозначается $V_{1}+V_{2}$.\n",
    "\n",
    "\n",
    "4. _Прямой суммой подпространств_ $V_{1}$ и $V_{2}$  называется совокупность всех элементов $x_{1}+x_{2}\\in V$ при условии, что $x_{1}\\in V_{1}$ и $x_{2}\\in V_{2}$ и $V_{1}\\cap V_{2}={0}$. Прямая сумма обозначается $V_{1}\\oplus V_{2}$.\n"
   ]
  },
  {
   "cell_type": "markdown",
   "metadata": {
    "colab_type": "text",
    "id": "YFvzOOwfkVnD"
   },
   "source": [
    "__Пример__\n",
    "\n",
    "Пусть $R$ — линейное пространство всех свободных векторов в трехмерном пространстве, $L_{1}$ — подпространство всех свободных векторов, параллельных плоскости $Oxy$, $L_{2}$ — подпространство всех свободных векторов, параллельных плоскости $Oxz$. Тогда суммой подпространств $L_{1}$ и $L_{2}$ будет являться все пространство $R$, а пересечением их будет являться множество векторов, параллельных оси $Ox$."
   ]
  },
  {
   "cell_type": "markdown",
   "metadata": {
    "colab_type": "text",
    "id": "kfK6p16LkVnE"
   },
   "source": [
    "__Утверждение__\n",
    "\n",
    "Сумма размерностей произвольных подпространств $L_{1}$ и $L_{2}$ конечномерного линейного пространства $R$ равна сумме размерности пересечения этих подпространств и размерности их суммы."
   ]
  },
  {
   "cell_type": "markdown",
   "metadata": {
    "colab_type": "text",
    "id": "MyOFHXCPkVnJ"
   },
   "source": [
    "__Утверждение__\n",
    "\n",
    "Размерность любого подпространства $n$-мерного линейного пространства не превосходит размерности $n$ этого пространства."
   ]
  },
  {
   "cell_type": "markdown",
   "metadata": {
    "colab_type": "text",
    "id": "ru-WGx__kVnK"
   },
   "source": [
    "__Определение__\n",
    "\n",
    "Возьмем в $n$-мерном линейном пространстве конечный набор векторов $\\{x_{1}, x_{2}, ... , x_{k}\\}$. Тогда совокупность всех линейных комбинаций этих векторов образует некоторое подпространство исходного линейного пространства. Она будет называться _линейной оболочкой_ этого множества и обозначаться $L\\{x_{1}, x_{2}, ... , x_{k}\\}.$"
   ]
  },
  {
   "cell_type": "markdown",
   "metadata": {},
   "source": [
    "## Евклидово пространство\n",
    "\n",
    "__Определение__\n",
    "\n",
    "Линейное пространство над полем вещественных чисел называется _евклидовым пространством_, если на нем введено правило, согласно которому каждой упорядоченной паре векторов $x$ и $y$ поставлено в соответствие вещественное число, называемое _скалярным произведением_ и обозначаемое символом $(x, y)$.\n",
    "\n",
    "При этом указанное правило должно подчиняться четырем аксиомам:<br>\n",
    "1) $(x,y)=(y,x);$<br>\n",
    "2) $(\\lambda x, y)=\\lambda(x, y);$<br>\n",
    "3) $(x_{1}+x_{2},y)=(x_{1},y)+(x_{2},y);$<br>\n",
    "4) $(x, x)\\geq0$, причем $(x,x)=0\\Leftrightarrow x=0.$\n",
    "\n",
    "\n",
    "\n",
    "__Пример__\n",
    "\n",
    "Из школьной программы известно, что в стандартном понимании в трехмерном пространстве скалярное произведение двух векторов определяется как произведение длин этих векторов на косинус угла между ними (см. рис.):\n",
    "\n",
    "$$(x, y) = \\left|x\\right|\\cdot\\left|y\\right|\\cdot cos\\alpha.$$"
   ]
  },
  {
   "cell_type": "code",
   "execution_count": 5,
   "metadata": {},
   "outputs": [],
   "source": [
    "# запустите последовательно код в ячейках, чтобы отобразить иллюстрации\n",
    "import matplotlib.pyplot as plt"
   ]
  },
  {
   "cell_type": "code",
   "execution_count": 6,
   "metadata": {},
   "outputs": [
    {
     "data": {
      "image/png": "[encoded data removed]",
      "text/plain": [
       "<Figure size 432x288 with 1 Axes>"
      ]
     },
     "metadata": {
      "needs_background": "light"
     },
     "output_type": "display_data"
    }
   ],
   "source": [
    "fig = plt.figure()\n",
    "ax = fig.add_subplot(1,1,1)\n",
    "\n",
    "ax.spines['left'].set_position('zero')\n",
    "ax.spines['bottom'].set_position('zero')\n",
    "\n",
    "ax.spines['right'].set_color('none')\n",
    "ax.spines['top'].set_color('none')\n",
    "\n",
    "plt.axis('scaled')\n",
    "plt.xlim(-2, 2)\n",
    "plt.ylim(-2, 2)\n",
    "\n",
    "ax.arrow(0, 0, 0.6, 2, head_width=0.15, head_length=0.2, length_includes_head=True, facecolor='black')\n",
    "ax.arrow(0, 0, 2, 0.4, head_width=0.15, head_length=0.2, length_includes_head=True, facecolor='black')\n",
    "ax.annotate(\"y\", xy=(1.8, 0.6))\n",
    "ax.annotate(\"x\", xy=(0.7, 1.8))\n",
    "ax.annotate(\"\\u03B1\", xy=(0.2, 0.2))\n",
    "\n",
    "plt.show()"
   ]
  },
  {
   "cell_type": "markdown",
   "metadata": {},
   "source": [
    "Данное правило удовлетворяет введенным ранее аксиомам скалярного произведения. Таким образом, приведенное в примере пространство всех свободных векторов с так определенным скалярным произведением является евклидовым пространством.\n",
    "\n",
    "__Пример__\n",
    "\n",
    "Примером евклидова пространства будет выступать $n$-мерное линейное пространство $\\mathbb{R}^{n}$ упорядоченных совокупностей $n$ вещественных чисел, скалярное произведение векторов $x=(a_{1},a_{2},...,a_{n})$ и $y=(b_{1},b_{2},...,b_{n})$ на котором определено как\n",
    "\n",
    "$$(x,y)=a_{1}b_{1}+a_{2}b_{2}+...+a_{n}b_{n}.$$\n",
    "\n",
    "Очевидно, что определенные ранее аксиомы выполняются для этого правила.\n",
    "\n",
    "То есть скалярное произведение между двумя векторами $x=(1,2,3)$ и $y=(4,5,6)$, принадлежащими пространству $\\mathbb{R}^{3}$, будет равняться \n",
    "\n",
    "$$(x,y)=1\\cdot4+2\\cdot5+3\\cdot6=4 + 10 + 18=32.$$\n",
    "\n"
   ]
  },
  {
   "cell_type": "markdown",
   "metadata": {},
   "source": []
  },
  {
   "cell_type": "markdown",
   "metadata": {},
   "source": []
  },
  {
   "cell_type": "markdown",
   "metadata": {
    "colab_type": "text",
    "id": "m4jm1yBgkVnM"
   },
   "source": [
    "## Векторные операции в Python"
   ]
  },
  {
   "cell_type": "markdown",
   "metadata": {
    "colab_type": "text",
    "id": "lRWUAMI_kVnN"
   },
   "source": [
    "В машинном обучении, популярным инструментом в котором является язык Python, вектор является основной единицей данных. Векторы содержат значения, называемые _признаками_, которые используются для обучения моделей либо которые необходимо предсказать на основе имеющейся модели. "
   ]
  },
  {
   "cell_type": "markdown",
   "metadata": {
    "colab_type": "text",
    "id": "l9iareE8kVnQ"
   },
   "source": [
    "Самый простой способ создать вектор в Python — использовать библиотеку NumPy. С ее помощью вектор можно задать явно с использованием функции `numpy.array(list, dtype=None, ...)`.\n",
    "\n",
    "Параметр `list` — итерируемый объект, из которого можно создать вектор (например, список). Параметр `dtype` задает тип данных для значений вектора, например, `int` для целочисленных значений и `float` — для вещественных. Если этот параметр не задан, то тип данных будет определен из типа элементов объекта, заданного в первом аргументе.\n",
    "\n",
    "В NumPy вектор является одномерным массивом."
   ]
  },
  {
   "cell_type": "code",
   "execution_count": 0,
   "metadata": {
    "colab": {},
    "colab_type": "code",
    "id": "Fb0Nb7CokVnW"
   },
   "outputs": [],
   "source": [
    "import numpy as np"
   ]
  },
  {
   "cell_type": "code",
   "execution_count": 0,
   "metadata": {
    "colab": {
     "base_uri": "https://localhost:8080/",
     "height": 51
    },
    "colab_type": "code",
    "id": "AidZD6P-kVnr",
    "outputId": "390e00c3-12b3-4cd3-96ed-b77fbdcb092a"
   },
   "outputs": [
    {
     "name": "stdout",
     "output_type": "stream",
     "text": [
      "Вектор:\n",
      "[1 2 3]\n"
     ]
    }
   ],
   "source": [
    "a = np.array([1, 2, 3])\n",
    "print(f'Вектор:\\n{a}')"
   ]
  },
  {
   "cell_type": "code",
   "execution_count": 0,
   "metadata": {
    "colab": {
     "base_uri": "https://localhost:8080/",
     "height": 51
    },
    "colab_type": "code",
    "id": "ALhwHpPmkVoK",
    "outputId": "03a6f022-3570-4252-8499-1d800d0bd6f8"
   },
   "outputs": [
    {
     "name": "stdout",
     "output_type": "stream",
     "text": [
      "Вектор с вещественными значениями:\n",
      "[1. 2. 3. 4. 5.]\n"
     ]
    }
   ],
   "source": [
    "b = np.array([1, 2, 3, 4, 5], dtype=float)\n",
    "print(f'Вектор с вещественными значениями:\\n{b}')"
   ]
  },
  {
   "cell_type": "code",
   "execution_count": 0,
   "metadata": {
    "colab": {
     "base_uri": "https://localhost:8080/",
     "height": 51
    },
    "colab_type": "code",
    "id": "GJj2RdbBkVoW",
    "outputId": "750375c7-20ce-469c-fa69-c089adf58512"
   },
   "outputs": [
    {
     "name": "stdout",
     "output_type": "stream",
     "text": [
      "Вектор с булевыми значениями:\n",
      "[ True False False]\n"
     ]
    }
   ],
   "source": [
    "c = np.array([True, False, False], dtype=bool)\n",
    "print(f'Вектор с булевыми значениями:\\n{c}')"
   ]
  },
  {
   "cell_type": "markdown",
   "metadata": {
    "colab_type": "text",
    "id": "ktx8egvOkVoe"
   },
   "source": [
    "Тип значений вектора можно узнать с помощью атрибута `vec.dtype`, где `vec` — объект вектора."
   ]
  },
  {
   "cell_type": "code",
   "execution_count": 0,
   "metadata": {
    "colab": {
     "base_uri": "https://localhost:8080/",
     "height": 51
    },
    "colab_type": "code",
    "id": "lB_Yei4OkVoo",
    "outputId": "93a8b1d8-7153-4b8f-be01-09a55528d1ee"
   },
   "outputs": [
    {
     "name": "stdout",
     "output_type": "stream",
     "text": [
      "Тип булевого вектора:\n",
      "bool\n"
     ]
    }
   ],
   "source": [
    "print(f'Тип булевого вектора:\\n{c.dtype}')"
   ]
  },
  {
   "cell_type": "markdown",
   "metadata": {
    "colab_type": "text",
    "id": "71ZB_Y00kVox"
   },
   "source": [
    "Другим способом задания вектора является функция `numpy.arange([start, ]stop, [step, ]...)`, которая задает последовательность чисел заданного типа из промежутка [`start`, `stop`) (последнее значение не включается) через шаг `step`:\n"
   ]
  },
  {
   "cell_type": "code",
   "execution_count": 0,
   "metadata": {
    "colab": {
     "base_uri": "https://localhost:8080/",
     "height": 51
    },
    "colab_type": "code",
    "id": "yHdQQWbRkVoz",
    "outputId": "0828301f-9345-41f5-d8d3-7a0de4d8f6d8"
   },
   "outputs": [
    {
     "name": "stdout",
     "output_type": "stream",
     "text": [
      "Вектор вещественных чисел от 0 до 1 с шагом 0.2:\n",
      "[0.  0.2 0.4 0.6 0.8]\n"
     ]
    }
   ],
   "source": [
    "d = np.arange(start=0, stop=1, step=0.2) # последнее значение не включается!\n",
    "print(f'Вектор вещественных чисел от 0 до 1 с шагом 0.2:\\n{d}')"
   ]
  },
  {
   "cell_type": "markdown",
   "metadata": {
    "colab_type": "text",
    "id": "RCn_RxMfkVpH"
   },
   "source": [
    "Атрибут `numpy.array.shape`, показывающий размеры массива, в случае вектора будет показывать его длину, так как второго измерения нет:"
   ]
  },
  {
   "cell_type": "code",
   "execution_count": 0,
   "metadata": {
    "colab": {
     "base_uri": "https://localhost:8080/",
     "height": 34
    },
    "colab_type": "code",
    "id": "PzennH4_kVpJ",
    "outputId": "ca6b7d19-85e0-48a4-8124-e8d55f8338fa"
   },
   "outputs": [
    {
     "name": "stdout",
     "output_type": "stream",
     "text": [
      "Длина вектора d: (5,)\n"
     ]
    }
   ],
   "source": [
    "print(f'Длина вектора d: {d.shape}')"
   ]
  },
  {
   "cell_type": "markdown",
   "metadata": {
    "colab_type": "text",
    "id": "WCvqRNrlkVpU"
   },
   "source": [
    "С помощью NumPy можно совершать различные векторные операции, в том числе складывать векторы, умножать вектор на число и другой вектор (покоординатно)."
   ]
  },
  {
   "cell_type": "code",
   "execution_count": 0,
   "metadata": {
    "colab": {},
    "colab_type": "code",
    "id": "GIZNX3cbkVpW",
    "outputId": "9dfffd6e-f6e4-4071-e7c1-23f11b2f6c90"
   },
   "outputs": [
    {
     "name": "stdout",
     "output_type": "stream",
     "text": [
      "Вектор a: [1 2 3]\n",
      "Вектор b: [4 5 6]\n",
      "Число k: 2\n"
     ]
    }
   ],
   "source": [
    "a = np.array([1, 2, 3])\n",
    "b = np.array([4, 5, 6])\n",
    "k = 2\n",
    "\n",
    "print(f'Вектор a: {a}')\n",
    "print(f'Вектор b: {b}')\n",
    "print(f'Число k: {k}')"
   ]
  },
  {
   "cell_type": "code",
   "execution_count": 0,
   "metadata": {
    "colab": {},
    "colab_type": "code",
    "id": "cyIPt-bokVpe",
    "outputId": "41e8c8c4-d71f-49d4-b055-0f3fbb804e74"
   },
   "outputs": [
    {
     "name": "stdout",
     "output_type": "stream",
     "text": [
      "Вектор a + b: [5 7 9]\n"
     ]
    }
   ],
   "source": [
    "print(f'Вектор a + b: {a + b}')"
   ]
  },
  {
   "cell_type": "code",
   "execution_count": 0,
   "metadata": {
    "colab": {},
    "colab_type": "code",
    "id": "PuISb7PDkVpn",
    "outputId": "d83f8f89-6c02-44e7-feb1-bfca6efcd9eb"
   },
   "outputs": [
    {
     "name": "stdout",
     "output_type": "stream",
     "text": [
      "Вектор a - b: [-3 -3 -3]\n"
     ]
    }
   ],
   "source": [
    "print(f'Вектор a - b: {a - b}')"
   ]
  },
  {
   "cell_type": "code",
   "execution_count": 0,
   "metadata": {
    "colab": {},
    "colab_type": "code",
    "id": "hWV0twetkVp0",
    "outputId": "f563c36e-0fbe-4760-fb30-499a228d2f37"
   },
   "outputs": [
    {
     "name": "stdout",
     "output_type": "stream",
     "text": [
      "Вектор ka: [2 4 6]\n"
     ]
    }
   ],
   "source": [
    "print(f'Вектор ka: {k * a}')"
   ]
  },
  {
   "cell_type": "code",
   "execution_count": 0,
   "metadata": {
    "colab": {},
    "colab_type": "code",
    "id": "ws-fEepikVp_",
    "outputId": "90d4357a-a8ea-46bf-df09-05f7f03db4cc"
   },
   "outputs": [
    {
     "name": "stdout",
     "output_type": "stream",
     "text": [
      "Покоординатное умножение векторов a и b: [ 4 10 18]\n"
     ]
    }
   ],
   "source": [
    "print(f'Покоординатное умножение векторов a и b: {a * b}')"
   ]
  },
  {
   "cell_type": "markdown",
   "metadata": {},
   "source": [
    "В Python cкалярное произведение двух векторов можно вычислять с помощью функции `numpy.dot(a, b)` или метода `vec1.dot(vec2)`, где `vec1` и `vec2` — исходные векторы."
   ]
  },
  {
   "cell_type": "code",
   "execution_count": 8,
   "metadata": {},
   "outputs": [
    {
     "name": "stdout",
     "output_type": "stream",
     "text": [
      "Скалярное произведение a и b:\n",
      "32\n"
     ]
    }
   ],
   "source": [
    "a = np.array([1, 2, 3])\n",
    "b = np.array([4, 5, 6])\n",
    "print(f'Скалярное произведение a и b:\\n{np.dot(a, b)}')"
   ]
  },
  {
   "cell_type": "markdown",
   "metadata": {},
   "source": [
    "Введем теперь такие важные понятия, как _метрика_, _норма_ (или _длина_) вектора и _угол_ между векторами в произвольном евклидовом пространстве. Для этого нужно ввести понятие _линейных нормированных пространств._\n",
    "\n",
    "### Линейные нормированные пространства\n",
    "\n",
    "Для обобщения понятия длины вектора используется понятие _нормы_.\n",
    "\n",
    "__Определение__\n",
    "\n",
    "Линейное пространтсво $R$ называется _нормированным_, если на нем введено правило, согласно которому каждому элементу $x$ ставится в соответствие число, называемое _нормой_ (или _длиной_) этого элемента и обозначаемое символом $\\left\\|x\\right\\|$.\n",
    "\n",
    "Оно должно подчиняться трем аксиомам:<br>\n",
    "1) $\\left\\|x\\right\\|\\geq0$, причем $\\left\\|x\\right\\|=0\\Leftrightarrow x=0;$<br>\n",
    "2) $\\left\\|\\lambda x\\right\\|$ = $|\\lambda|\\left\\|x\\right\\|$;<br>\n",
    "3) $\\left\\| x + y \\right\\|$ = $\\left\\|x\\right\\|$ + $\\left\\|y\\right\\|$.\n",
    "\n",
    "Последняя аксиома называется _неравенством треугольника_, или _неравенством Минковского_.\n",
    "\n",
    "__Примеры__\n",
    "\n",
    "Существует много способов определния нормы.\n",
    "\n",
    "- $p$-норма (норма Гёльдера) для вектора $x = (x_{1}, \\dots, x_{n}) \\in \\mathbb{R}^{n}$ вычисляется по формуле:\n",
    "\n",
    "$$\\left\\| x \\right\\|_{p} = \\left( \\sum_{i} \\left| x_{i} \\right|^{p} \\right)^{1 / p},~p \\geq 1.$$\n",
    "\n",
    "В частных случаях при:\n",
    "\n",
    "- $p = 1$ получаем $\\ell_{1}$ норму (_манхэттенская норма_, или _манхэттенское расстояние_)\n",
    "\n",
    "$$\\left\\|x\\right\\|_{1} = \\sum_{i}|x_{i}|;$$\n",
    "\n",
    "- $p = 2$ получаем $\\ell_{2}$ норму (_евклидова норма_, наиболее часто используемая)\n",
    "\n",
    "$$\\left\\|x\\right\\|_{2} = \\sqrt{\\sum_{i}|x_{i}|^{2}}.$$\n",
    "\n",
    "Определим норму вектора вручную и при помощи Python.\n",
    "\n",
    "Для выполнения операций линейной алгебры в Python используется модуль `numpy.linalg`. Для вычисления различных норм используется функция `numpy.linalg.norm(x, ord=None)`, где `x` — исходный вектор, `ord` — параметр, обозначенный выше как $p$ и определяющий норму."
   ]
  },
  {
   "cell_type": "code",
   "execution_count": 9,
   "metadata": {},
   "outputs": [],
   "source": [
    "from numpy.linalg import norm"
   ]
  },
  {
   "cell_type": "markdown",
   "metadata": {},
   "source": [
    "Зададим вектор $a=(1,2,-3)$:"
   ]
  },
  {
   "cell_type": "code",
   "execution_count": 10,
   "metadata": {},
   "outputs": [],
   "source": [
    "a = np.array([1, 2, -3])"
   ]
  },
  {
   "cell_type": "markdown",
   "metadata": {},
   "source": [
    "Определим манхэттенскую норму вектора $a$:\n",
    "\n",
    "$$\\left\\|x\\right\\|_{1} = |1|+|2|+|-3|=6.$$"
   ]
  },
  {
   "cell_type": "code",
   "execution_count": 11,
   "metadata": {},
   "outputs": [
    {
     "name": "stdout",
     "output_type": "stream",
     "text": [
      "l1 норма вектора a:\n",
      "6.0\n"
     ]
    }
   ],
   "source": [
    "print(f'l1 норма вектора a:\\n{norm(a, ord=1)}')"
   ]
  },
  {
   "cell_type": "markdown",
   "metadata": {},
   "source": [
    "Определим евклидову норму вектора $a$:\n",
    "\n",
    "$$\\left\\|x\\right\\|_{2} = \\sqrt{1^{2}+2^{2}+(-3)^{2}}=\\sqrt{14}.$$"
   ]
  },
  {
   "cell_type": "code",
   "execution_count": 14,
   "metadata": {},
   "outputs": [
    {
     "name": "stdout",
     "output_type": "stream",
     "text": [
      "l2 норма вектора a:\n",
      "3.7416573867739413\n"
     ]
    }
   ],
   "source": [
    "print(f'l2 норма вектора a:\\n{norm(a, ord=2)}')"
   ]
  },
  {
   "cell_type": "markdown",
   "metadata": {},
   "source": [
    "Можем убедиться, что различные нормы дают разные значения для одного и того же вектора.\n",
    "\n",
    "__Теорема__\n",
    "\n",
    "Всякое евклидово пространство является нормированным, если норму любого элемента $x$ в нем определить как\n",
    "\n",
    "$$\\left\\|x\\right\\| = \\sqrt{(x,x)}.$$\n",
    "\n",
    "Для любых $x,y$, принадлежащих евклидову пространству $E$ с так определенной нормой, имеет место неравенство \n",
    "\n",
    "$$|(x,y)|\\leq\\left\\|x\\right\\| \\left\\|y\\right\\|.$$\n",
    "\n",
    "Это выражение называется _неравенством Коши — Буняковского_.\n",
    "\n"
   ]
  },
  {
   "cell_type": "markdown",
   "metadata": {},
   "source": [
    "\n",
    "\n",
    "__Определение__\n",
    "\n",
    "В любом вещественном евклидовом пространстве можно ввести понятие _угла_ между двумя произвольными элементами $x$ и $y$. Углом $\\varphi \\in [0, \\pi]$ между этими элементами назовем угол, косинус которого определяется соотношением\n",
    "\n",
    "$$cos\\varphi = \\frac{(x,y)}{\\left \\|x\\right \\|\\cdot\\left \\|y\\right \\|}.$$\n",
    "\n"
   ]
  },
  {
   "cell_type": "markdown",
   "metadata": {},
   "source": [
    "__Пример__\n",
    "\n",
    "Определим угол между векторами $a=(1,2,3)$, $b=(4,5,6)$."
   ]
  },
  {
   "cell_type": "code",
   "execution_count": 16,
   "metadata": {},
   "outputs": [],
   "source": [
    "a = np.array([1, 2, 3])\n",
    "b = np.array([4, 5, 6])"
   ]
  },
  {
   "cell_type": "markdown",
   "metadata": {},
   "source": [
    "$$cos\\varphi = \\frac{1\\cdot4+2\\cdot5+3\\cdot6}{\\sqrt{1^{2}+2^{2}+3^{2}}\\sqrt{4^{2}+5^{2}+6^{2}}}=\\frac{32}{\\sqrt{1078}}\\approx 0.97$$"
   ]
  },
  {
   "cell_type": "code",
   "execution_count": 17,
   "metadata": {},
   "outputs": [
    {
     "name": "stdout",
     "output_type": "stream",
     "text": [
      "Косинус угла между a и b: 0.97\n",
      "Угол между a и b: 0.23\n"
     ]
    }
   ],
   "source": [
    "cos_phi = np.dot(a, b) / norm(a) / norm(b)\n",
    "print(f'Косинус угла между a и b: {cos_phi:.2f}')\n",
    "print(f'Угол между a и b: {np.arccos(cos_phi):.2f}')"
   ]
  },
  {
   "cell_type": "markdown",
   "metadata": {},
   "source": [
    "Два произвольных элемента  𝑥  и  𝑦  евклидова пространства  𝐸  называются _ортогональными_, если их скалярное произведение равно нулю (в этом случае косинус угла  𝜑  между этими элементами будет равен нулю)."
   ]
  },
  {
   "cell_type": "markdown",
   "metadata": {},
   "source": [
    "### Метрические пространства\n",
    "\n",
    "Понятие расстояния в контексте машинного обучения обобщается с помощью _метрики_.\n",
    "\n",
    "__Определение__\n",
    "\n",
    "Пара $(E, d)$, где $E$ — множество, а $d: E\\times E \\rightarrow \\mathbb{R}$ — вещественнозначная функция, называется _метрическим пространством_, если для всех $x,y,z\\in E$ выполняются условия:<br>\n",
    "1) $d(x,y)=d(y,x);$<br>\n",
    "2) $d(x,x)=0$; $d(x,y)>0$, если $x \\neq y$;<br>\n",
    "3) $d(x,z) \\leq d(x,y) + d(y,z)$ (неравенство треугольника).\n",
    "\n",
    "Функция $d$ с такими свойствами иногда обозначается  $\\left | x-y \\right |$ и называется _метрикой_, а $d(x,y)$ — _расстоянием между точками $x,y$_."
   ]
  },
  {
   "cell_type": "markdown",
   "metadata": {},
   "source": [
    "Любое нормированное пространство можно превратить в метрическое, определив  𝑑(𝑥,𝑦)=‖𝑥−𝑦"
   ]
  },
  {
   "cell_type": "markdown",
   "metadata": {},
   "source": [
    "__Пример__\n",
    "\n",
    "Как и в случае нормы, существует ряд различных методик определения метрики, например, _евклидова метрика_\n",
    " \n",
    "$$d_{2}(x,y) = \\sqrt{\\sum_{i}(x_{i}-y_{i})^{2}}$$\n",
    "\n",
    "и _манхэттенская метрика_:\n",
    "\n",
    "$$d_{1}(x,y) = \\sum_{i}|x_{i}-y_{i}|.$$"
   ]
  },
  {
   "cell_type": "markdown",
   "metadata": {},
   "source": [
    "Определим расстояние между векторами $a=(1,2,3)$, $b=(4,5,6)$."
   ]
  },
  {
   "cell_type": "code",
   "execution_count": 19,
   "metadata": {},
   "outputs": [],
   "source": [
    "a = np.array([1, 2, 3])\n",
    "b = np.array([4, 5, 6])"
   ]
  },
  {
   "cell_type": "markdown",
   "metadata": {},
   "source": [
    "Один способ — посчитать метрику как $\\left\\|a-b\\right\\|$, как было сказано выше:\n",
    "\n"
   ]
  },
  {
   "cell_type": "code",
   "execution_count": 20,
   "metadata": {},
   "outputs": [
    {
     "name": "stdout",
     "output_type": "stream",
     "text": [
      "l1 расстояние между векторами a и b:\n",
      "9.0\n"
     ]
    }
   ],
   "source": [
    "print(f'l1 расстояние между векторами a и b:\\n{norm(a - b, ord=1)}')\n",
    "\n"
   ]
  },
  {
   "cell_type": "code",
   "execution_count": 23,
   "metadata": {},
   "outputs": [
    {
     "name": "stdout",
     "output_type": "stream",
     "text": [
      "l2 расстояние между векторами a и b:\n",
      "5.196152422706632\n"
     ]
    }
   ],
   "source": [
    "print(f'l2 расстояние между векторами a и b:\\n{norm(a - b, ord=2)}')"
   ]
  },
  {
   "cell_type": "markdown",
   "metadata": {},
   "source": [
    "Второй способ посчитать расстояние — использовать функцию `scipy.spatial.distance.cdist(XA, XB, metric='euclidean', p=2, ...)` из модуля SciPy, предназначенного для выполнения научных расчетов. Параметры `XA, XB` — исходные векторы, а `metric` и `p` задают метрику расстояния.\n",
    "\n",
    "Эта функция требует, чтобы размерность массивов `XA` и `XB` была как минимум двумерная, поэтому для использования этой функции исходные векторы необходимо преобразовать в _вектор-строки_ (матрица размера $1\\times m$) или _вектор-столбцы_ (матрица размера $n\\times1$). Матрицы как струкутры данных будут рассмотрены нами в следующих уроках.\n",
    "\n",
    "Есть различные способы преобразования вектора в вектор-строку или вектор-столбец. Первый — использовать метод `array.reshape(shape)`, где кортеж `shape` задает размерность получаемого массива."
   ]
  },
  {
   "cell_type": "code",
   "execution_count": 24,
   "metadata": {},
   "outputs": [
    {
     "name": "stdout",
     "output_type": "stream",
     "text": [
      "Вектор а: [1 2 3]\n",
      "Его размерность: (3,)\n",
      "Вектор b: [4 5 6]\n",
      "Его размерность: (3,)\n",
      "\n",
      "После применения метода reshape:\n",
      "Вектор-строка a: [[1 2 3]]\n",
      "Его размерность: (1, 3)\n",
      "Вектор-строка b: [[4 5 6]]\n",
      "Его размерность: (1, 3)\n"
     ]
    }
   ],
   "source": [
    "print(f'Вектор а: {a}')\n",
    "print(f'Его размерность: {a.shape}')\n",
    "print(f'Вектор b: {b}')\n",
    "print(f'Его размерность: {b.shape}')\n",
    "\n",
    "a = a.reshape((1, 3))\n",
    "b = b.reshape((1, 3))\n",
    "\n",
    "print('\\nПосле применения метода reshape:')\n",
    "print(f'Вектор-строка a: {a}')\n",
    "print(f'Его размерность: {a.shape}')\n",
    "print(f'Вектор-строка b: {b}')\n",
    "print(f'Его размерность: {b.shape}')"
   ]
  },
  {
   "cell_type": "code",
   "execution_count": 26,
   "metadata": {},
   "outputs": [
    {
     "name": "stdout",
     "output_type": "stream",
     "text": [
      "Манхэттенское расстояние между a и b:\n",
      "[[9.]]\n"
     ]
    }
   ],
   "source": [
    "from scipy.spatial.distance import cdist\n",
    "print(f'Манхэттенское расстояние между a и b:\\n{cdist(a, b, metric=\"cityblock\")}')"
   ]
  },
  {
   "cell_type": "markdown",
   "metadata": {},
   "source": [
    "Еще один способ преобразования вектора для получения возможности определения расстояния при помощи cdist — использование функции np.newaxis."
   ]
  },
  {
   "cell_type": "code",
   "execution_count": 27,
   "metadata": {},
   "outputs": [
    {
     "name": "stdout",
     "output_type": "stream",
     "text": [
      "Преобразование вектора a в вектор-строку:\n",
      "[[1 2 3]]\n",
      "Полученная размерность:(1, 3)\n",
      "Преобразование вектора b в вектор-столбец:\n",
      "[[4]\n",
      " [5]\n",
      " [6]]\n",
      "Полученная размерность:(3, 1)\n"
     ]
    }
   ],
   "source": [
    "a = np.array([1, 2, 3])\n",
    "b = np.array([4, 5, 6])\n",
    "print(f'Преобразование вектора a в вектор-строку:\\n{a[np.newaxis, :]}')\n",
    "print(f'Полученная размерность:{a[np.newaxis, :].shape}')\n",
    "\n",
    "print(f'Преобразование вектора b в вектор-столбец:\\n{b[:, np.newaxis]}')\n",
    "print(f'Полученная размерность:{b[:, np.newaxis].shape}')"
   ]
  },
  {
   "cell_type": "code",
   "execution_count": 28,
   "metadata": {},
   "outputs": [
    {
     "name": "stdout",
     "output_type": "stream",
     "text": [
      "Евклидово расстояние между a и b:\n",
      "[[5.19615242]]\n"
     ]
    }
   ],
   "source": [
    "print(f'Евклидово расстояние между a и b:\\n{cdist(a[np.newaxis, :], b[np.newaxis, :], metric=\"euclidean\")}')"
   ]
  },
  {
   "cell_type": "markdown",
   "metadata": {},
   "source": [
    "### Базис в евклидовом пространстве\n",
    "\n",
    "\n",
    "https://www.youtube.com/watch?v=A37zQga6-SU\n",
    "\n",
    "Как было сказано ранее, в евклидовом пространстве $E$ элементы $x$ и $y$ называются _ортогональными_, если\n",
    "\n",
    "$$(x,y)=0.$$\n",
    "\n",
    "То есть можно заключить, что данное равенство означает, что угол между векторами должен равняться $90^{\\circ}$. Это же справедливо и для произвольного евклидова пространства, а также отсюда следует, что нулевой элемент евклидова пространства ортогонален любому элементу.\n",
    "\n"
   ]
  },
  {
   "cell_type": "markdown",
   "metadata": {},
   "source": [
    "__Определение.__ В конечномерном евклидовом пространстве базис $\\{e_{1},e_{2},...,e_{n}\\}$ называется ортонормированным, если \n",
    "\n",
    "$(e_{i}, e_{j})=0$ $\\forall$ $i\\neq j$ и $(e_{i},e_{i})=1$ $\\forall$ $i\\in[1, n].$\n",
    "\n",
    "Это означает, что ортонормированный базис является ортогональным и состоит из векторов единичной длины.\n",
    "\n"
   ]
  },
  {
   "cell_type": "markdown",
   "metadata": {},
   "source": [
    "Часто на практике возникает необходимость произвести переход от произвольного базиса $\\{a_{1}, a_{2}, ...,a_{n}\\}$ в определенном евклидовом пространстве к ортонормированному. Для этого нужно сперва _ортогонализировать_ его, а затем _нормировать_:\n",
    "\n",
    "- первая часть называется процесс ортогонализации Грама-Шмидта. Она производится следующим образом.\n",
    "\n",
    "    Возьмем вначале $e_{1}=a_{1}$.<br>\n",
    "    Второй элемент нового ортогонального базиса будем искать в виде $e_{2}=a_{2}+\\alpha_{1}e_{1}.$\n",
    "    \n",
    "    $\\alpha_{1}$ подберем из условия ортогонального базиса $(e_{1}, e_{2})=0$. Из этого следует, что \n",
    "    \n",
    "    $$(e_{1}, a_{2}+\\alpha_{1}e_{1})=(e_{1}, a_{2})+(e_{1},\\alpha_{1}e_{1})=0,$$\n",
    "    \n",
    "    \n",
    "$$\\alpha_{1}=-\\frac{(e_{1}, a_{2})}{(e_{1},e_{1})}.$$\n",
    "    \n",
    "\n",
    "    \n",
    "    \n",
    "\n",
    "  "
   ]
  },
  {
   "cell_type": "markdown",
   "metadata": {},
   "source": [
    "  \n",
    "   k-й элемент нового базиса будет иметь вид \n",
    "   \n",
    "   $$e_{k}=a_{k}+\\sum_{j=1}^{k-1}\\alpha_{j}e_{j},$$\n",
    "    \n",
    "   а $\\alpha_{i}$ —\n",
    "    \n",
    "   $$\\alpha_{i}=-\\frac{(e_{i}, a_{k})}{(e_{i},e_{i})}, i\\in[1, k-1].$$\n",
    "    \n",
    " "
   ]
  },
  {
   "cell_type": "markdown",
   "metadata": {},
   "source": [
    "  Ортогонализация продолжается до окончания множества исходных элементов, после чего следует вторая часть:\n",
    "    \n",
    "- элементы $e_{i}$ достаточно пронормировать для получения ортонормированного базиса:\n",
    "    \n",
    "    $$e_{i}'=\\frac{e_{i}}{|e_{i}|}.$$\n",
    "    \n",
    "    \n",
    "    \n",
    "    \n",
    " Видео по ортогонолизации:   \n",
    " https://www.youtube.com/watch?v=xJoqnRI56cw\n",
    " \n",
    " https://www.youtube.com/watch?v=weSLIvD8y30\n",
    " \n",
    " https://www.youtube.com/watch?v=bLcMxEn6O6g\n",
    " \n",
    " \n",
    " \n",
    " \n",
    "\n",
    "Примером ортонормированного базиса может служить декартов прямоугольный базис евклидова пространства $E^{n}$:\n",
    "\n",
    "$$e_{1}=(1,0,0,...,0),$$\n",
    "$$e_{2}=(0,1,0,...,0),$$\n",
    "$$...$$\n",
    "$$e_{n}=(0,0,0,...,1).$$\n",
    "\n"
   ]
  },
  {
   "cell_type": "code",
   "execution_count": null,
   "metadata": {},
   "outputs": [],
   "source": []
  },
  {
   "cell_type": "markdown",
   "metadata": {
    "colab_type": "text",
    "id": "xH8_mN7okVqG"
   },
   "source": [
    "## Примеры задач"
   ]
  },
  {
   "cell_type": "markdown",
   "metadata": {
    "colab_type": "text",
    "id": "ciXbchOhkVqH"
   },
   "source": [
    "Для векторов $x, y, z$ и вещественных чисел $\\alpha_{i}$ решим следующие задачи:"
   ]
  },
  {
   "cell_type": "markdown",
   "metadata": {
    "colab_type": "text",
    "id": "p4uFqdlPkVqI"
   },
   "source": [
    "__1.__ Известно, что векторы некоторого линейного пространства $x$, $y$ и $z$ линейно независимы. Будут ли линейно независимы слеудующие векторы: $x-y, y-z, z-x?$\n",
    "\n",
    "__Решение__\n",
    "\n",
    "Заметим, что $x-y=-((y-z)+(z-x))$, то есть один из векторов является линейной комбинацией двух остальных. Из этого следует, что векторы линейно зависимы."
   ]
  },
  {
   "cell_type": "markdown",
   "metadata": {
    "colab_type": "text",
    "id": "ypvfV9tckVqL"
   },
   "source": [
    "__2.__ Известно, что векторы некоторого линейного пространства $x$, $y$ и $z$ линейно независимы. Будут ли линейно независимы слеудующие векторы: $x, x+y, x+y+z?$\n",
    "\n",
    "__Решение__\n",
    "\n",
    "Приравняем линейную комбинацию данных векторов к нулевому вектору:\n",
    "$$\\alpha_{1}x+\\alpha_{2}(x+y)+\\alpha_{3}(x+y+z)=0.$$\n",
    "Учитывая свойства линейных пространств, мы можем раскрыть скобки и преобразовать полученное уравнение к виду\n",
    "$$(\\alpha_{1}+\\alpha_{2}+\\alpha_{3})x+(\\alpha_{2}+\\alpha_{3})y+\\alpha_{3}z=0.$$\n",
    "Тогда, если предположить, что векторы линейно независимы, можно сделать вывод, что все коэффициенты должны равняться нулю. Получаем систему уравнений:\n",
    "$$\\begin{cases}\n",
    " \\alpha_{1}+\\alpha_{2}+\\alpha_{3}=0,\\\\\n",
    " \\alpha_{2}+\\alpha_{3}=0,\\\\\n",
    " \\alpha_{3}=0,\n",
    "\\end{cases}$$\n",
    "откуда следует, что $\\alpha_{1}=\\alpha_{2}=\\alpha_{3}=0$. Таким образом, векторы $x, x+y, x+y+z$ линейно независимы."
   ]
  },
  {
   "cell_type": "markdown",
   "metadata": {
    "colab_type": "text",
    "id": "UlCV60j8kVqM"
   },
   "source": [
    "__3.__ Исследовать на линейную зависимость:\n",
    "$$f_{1}(x)=x^{2}+5, f_{2}(x)=x^{2}, f_{3}(x)=1.$$\n",
    "\n",
    "__Решение__\n",
    "\n",
    "Заметим, что $f_{1}(x)=f_{2}(x)+5f_{3}(x)$, то есть вектор $f_{1}(x)$ — линейная комбинация векторов $f_{2}(x)$ и $f_{3}(x)$, из чего можно сделать вывод, что $f_{1}(x)=x^{2}+5$ и $f_{2}(x)=x^{2}$, $f_{3}(x)=1$ линейно зависимы."
   ]
  },
  {
   "cell_type": "markdown",
   "metadata": {
    "colab_type": "text",
    "id": "DkGHOBdkkVqO"
   },
   "source": [
    "__4.__ Найти координаты вектора $x = (2, 3, 5)\\in \\mathbb{R}^{3}$ в стандартном базисе трехмерного пространства.\n",
    "\n",
    "__Решение__\n",
    "\n",
    "Стандартный базис линейного пространства $\\mathbb{R}^{3}$ образуют векторы \n",
    "$e_{1}=(1, 0, 0)$, $e_{2}=(0, 1, 0)$, $e_{3}=(0, 0, 1)$.\n",
    "Тогда \n",
    "\n",
    "$$x=(2, 3, 5)=(2,0,0)+(0, 3, 0)+(0, 0, 5)=2\\cdot(1, 0, 0)+3\\cdot(0, 1, 0)+5\\cdot(0, 0, 1)=2e_{1}+3e_{2}+5e_{3},$$\n",
    "\n",
    "\n",
    "то есть координатами вектора $x$ в стандартном базисе являются $2$, $3$, $5$."
   ]
  },
  {
   "cell_type": "markdown",
   "metadata": {
    "colab_type": "text",
    "id": "aU5YNMH9kVqP"
   },
   "source": [
    "## Практическое задание"
   ]
  },
  {
   "cell_type": "markdown",
   "metadata": {
    "colab_type": "text",
    "id": "SmdURZ_OkVqQ"
   },
   "source": [
    "__1.__ Исследовать на линейную зависимость:\n",
    "$$f_{1}(x)=e^{x}, f_{2}(x)=1, f_{3}(x)=x+1, f_{4}(x)=x-e^{x}.$$"
   ]
  },
  {
   "cell_type": "markdown",
   "metadata": {},
   "source": [
    "Ваше решение:"
   ]
  },
  {
   "cell_type": "markdown",
   "metadata": {},
   "source": [
    "$f_{4}(x)=(f_{3}(x)-f_{2}(x))-f_{1}(x)$ соответственно $f_{4}(x)$ линейная комбинация других векторов, следовательно можно сделать вывод, что есть линейная зависимость."
   ]
  },
  {
   "cell_type": "markdown",
   "metadata": {
    "colab_type": "text",
    "id": "cECfCSANkVqR"
   },
   "source": [
    "2. Исследовать на линейную зависимость:\n",
    "$$f_{1}(x)=2, f_{2}(x)=x, f_{3}(x)=x^{2}, f_{4}(x)=(x+1)^{2}.$$"
   ]
  },
  {
   "cell_type": "markdown",
   "metadata": {},
   "source": [
    "Ваше решение:"
   ]
  },
  {
   "cell_type": "markdown",
   "metadata": {},
   "source": [
    "линейная зависимость есть $f_{4}(x)=f{3}(x)+2*f_{2}(x)+0.5*f_{1}(x)$ или $x^2+2x+1$"
   ]
  },
  {
   "cell_type": "markdown",
   "metadata": {
    "colab_type": "text",
    "id": "DFrjdtbHkVqS"
   },
   "source": [
    "__3.__ Найти координаты вектора $x = (2, 3, 5)\\in \\mathbb{R}^{3}$ в базисе $b_{1}=(0, 0, 10)$, $b_{2}=(2, 0, 0)$, $b_{3}=(0, 1, 0)$."
   ]
  },
  {
   "cell_type": "markdown",
   "metadata": {},
   "source": [
    "__Решение__\n",
    "\n",
    "$$x=(2, 3, 5)=(2,0,0)+(0, 3, 0)+(0, 0, 5)=0.5\\cdot(1, 0, 0)+\\cdot(0, 1, 0)+3\\cdot(0, 0, 1)=0.5b_{1}+b_{2}+3b_{3},$$\n",
    "\n",
    "\n",
    "то есть координатами вектора $x$ в базисе $b_{1}, b_{2}, b_{3}$ являются $0.5$, $1$, $3$."
   ]
  },
  {
   "cell_type": "markdown",
   "metadata": {
    "colab_type": "text",
    "id": "5la-eVLukVqT"
   },
   "source": [
    "__4.__ Найти координаты вектора $3x^{2}-2x+2\\in\\mathbb{R}^{3}[x]$:\n",
    "\n",
    "   а) в базисе $1$, $x$, $x^{2}$;\n",
    "   \n",
    "  Ваше решение:   \n",
    "   "
   ]
  },
  {
   "cell_type": "markdown",
   "metadata": {},
   "source": [
    "$$2(1,0,0)-2(0,x,0)+3(0,0,x^2)\n",
    "$$ответ:координаты $2, -2, 3$"
   ]
  },
  {
   "cell_type": "markdown",
   "metadata": {
    "colab_type": "text",
    "id": "kQlell_GkVqU"
   },
   "source": [
    "__5.__ Установить, является ли линейным подпространством:\n",
    "\n",
    "а) совокупность всех векторов трехмерного пространства, у которых по крайней мере одна из первых двух координат равна нулю;\n",
    "   \n",
    "   __Решение__\n",
    "   \n",
    "Не является подпространством так как при сложении двуч векторов $(0, a, b)$ и $(c, 0 , d)$ совокупности имеющих вид мы получим вектор $(c, a, b+d)$, который не будет относиться к этой совокупнсоти:\n",
    "\n",
    "    \n",
    "б) все векторы, являющиеся линейными комбинациями данных векторов $\\{u_{1}, u_{2}, ..., u_{n}\\}$.\n",
    "\n",
    "   __Решение__\n",
    "   \n",
    "линейной комбинацией данных векторов мы можем получить любой вектор трехмерного линейного простраства и таким образом это тоже будет являться линейным подпространством"
   ]
  },
  {
   "cell_type": "markdown",
   "metadata": {},
   "source": [
    "## Практическое задание\n",
    "\n",
    "__1.__ Найти скалярное произведение векторов $x, y \\in \\mathbb{R}$:<br>\n",
    "а) $x=(0,-3, 6),~y=(-4, 7, 9);$<br>\n",
    "\n"
   ]
  },
  {
   "cell_type": "code",
   "execution_count": 2,
   "metadata": {},
   "outputs": [
    {
     "data": {
      "text/plain": [
       "75"
      ]
     },
     "execution_count": 2,
     "metadata": {},
     "output_type": "execute_result"
    }
   ],
   "source": [
    "import numpy as np\n",
    "x = np.array([0,-3,6])\n",
    "y = np.array([-4,-7,9])\n",
    "sum([x[i]*y[i] for i in range(x.shape[0])])"
   ]
  },
  {
   "cell_type": "code",
   "execution_count": 4,
   "metadata": {},
   "outputs": [
    {
     "data": {
      "text/plain": [
       "75"
      ]
     },
     "execution_count": 4,
     "metadata": {},
     "output_type": "execute_result"
    }
   ],
   "source": [
    "import numpy as np\n",
    "x = np.array([0,-3,6])\n",
    "y = np.array([-4,-7,9])\n",
    "np.dot(x,y)"
   ]
  },
  {
   "cell_type": "markdown",
   "metadata": {},
   "source": [
    "б) $x=(7, -4, 0, 1),~y=(-3, 1, 11, 2).$\n",
    "\n",
    "Ваше решение:"
   ]
  },
  {
   "cell_type": "code",
   "execution_count": 5,
   "metadata": {},
   "outputs": [
    {
     "data": {
      "text/plain": [
       "-23"
      ]
     },
     "execution_count": 5,
     "metadata": {},
     "output_type": "execute_result"
    }
   ],
   "source": [
    "import numpy as np\n",
    "x = np.array([7,-4,0,1])\n",
    "y = np.array([-3,1,11,2])\n",
    "sum([x[i]*y[i] for i in range(x.shape[0])])"
   ]
  },
  {
   "cell_type": "code",
   "execution_count": 6,
   "metadata": {},
   "outputs": [
    {
     "data": {
      "text/plain": [
       "-23"
      ]
     },
     "execution_count": 6,
     "metadata": {},
     "output_type": "execute_result"
    }
   ],
   "source": [
    "import numpy as np\n",
    "x = np.array([7,-4,0,1])\n",
    "y = np.array([-3,1,11,2])\n",
    "np.dot(x,y)"
   ]
  },
  {
   "cell_type": "markdown",
   "metadata": {},
   "source": [
    "__2.__ Найти нормы векторов $(4, 2, 4)$ и $(12, 3, 4)$ и угол между ними."
   ]
  },
  {
   "cell_type": "code",
   "execution_count": 7,
   "metadata": {},
   "outputs": [
    {
     "name": "stdout",
     "output_type": "stream",
     "text": [
      "Норма вектора [4,2,4]:  6.0\n",
      "Норма вектора [12,3,4]:  13.0\n",
      "Cosinus угла между векторами:  0.8974358974358975\n",
      "Угол между векторами:  52.353904343333085\n"
     ]
    }
   ],
   "source": [
    "import math\n",
    "x = np.array([4, 2, 4])\n",
    "y = np.array([12, 3, 4])\n",
    "print(f\"Норма вектора [{x[0]},{x[1]},{x[2]}]: \",sum(x*x)**0.5)\n",
    "print(f\"Норма вектора [{y[0]},{y[1]},{y[2]}]: \",sum(y*y)**0.5)\n",
    "print(f\"Cosinus угла между векторами: \", sum([x[i]*y[i] for i in range(x.shape[0])])/(sum(y*y)**0.5 * sum(x*x)**0.5))\n",
    "print(f\"Угол между векторами: \", math.acos(sum([x[i]*y[i] for i in range(x.shape[0])])/(sum(y*y)**0.5 * sum(x*x)**0.5))* (360 / math.pi))"
   ]
  },
  {
   "cell_type": "code",
   "execution_count": 11,
   "metadata": {},
   "outputs": [
    {
     "data": {
      "text/plain": [
       "(6.0, 13.0)"
      ]
     },
     "execution_count": 11,
     "metadata": {},
     "output_type": "execute_result"
    }
   ],
   "source": [
    "import numpy as np\n",
    "x = np.array([4, 2, 4])\n",
    "y = np.array([12, 3, 4])\n",
    "a=np.linalg.norm(x)\n",
    "b=np.linalg.norm(y)\n",
    "a,b"
   ]
  },
  {
   "cell_type": "code",
   "execution_count": 15,
   "metadata": {},
   "outputs": [
    {
     "data": {
      "text/plain": [
       "0.8974358974358975"
      ]
     },
     "execution_count": 15,
     "metadata": {},
     "output_type": "execute_result"
    }
   ],
   "source": [
    "c=(np.dot(x,y))/(sum(y*y)**0.5 * sum(x*x)**0.5)\n",
    "c"
   ]
  },
  {
   "cell_type": "code",
   "execution_count": 23,
   "metadata": {},
   "outputs": [
    {
     "data": {
      "text/plain": [
       "52.353904343333085"
      ]
     },
     "execution_count": 23,
     "metadata": {},
     "output_type": "execute_result"
    }
   ],
   "source": [
    "import math\n",
    "d=math.acos(sum([x[i]*y[i] for i in range(x.shape[0])])/(sum(y*y)**0.5 * sum(x*x)**0.5))* (360 / math.pi)\n",
    "d"
   ]
  },
  {
   "cell_type": "markdown",
   "metadata": {},
   "source": [
    "4. Какие из нижеперечисленных векторов образуют ортонормированный базис в линейном пространстве  ℝ3 :\n",
    "а)  (1,0,0),(0,0,1); \n",
    "б)  (1/2⎯⎯√,−1/2⎯⎯√,0),(1/2⎯⎯√,1/2⎯⎯√,0),(0,0,1); \n",
    "в)  (1/2,−1/2,0),(0,1/2,1/2),(0,0,1); \n",
    "г)  (1,0,0),(0,1,0),(0,0,1)?"
   ]
  },
  {
   "cell_type": "code",
   "execution_count": null,
   "metadata": {},
   "outputs": [],
   "source": [
    "#вектор (1,0,0),(0,1,0),(0,0,1) -образуют ортонормированный базис"
   ]
  },
  {
   "cell_type": "markdown",
   "metadata": {},
   "source": [
    "Ваши ответы:"
   ]
  },
  {
   "cell_type": "markdown",
   "metadata": {
    "colab_type": "text",
    "id": "0QBxDKjQkVqX"
   },
   "source": [
    "## Литература"
   ]
  },
  {
   "cell_type": "markdown",
   "metadata": {
    "colab_type": "text",
    "id": "QJAcs-WIkVqY"
   },
   "source": [
    "1. Ильин В. А., Позняк Э. Г. Линейная алгебра: Учеб. для вузов. — 6-е изд. — М.: Физматлит, 2005.\n",
    "2. Кострикин А. И., Манин Ю. И. Линейная алгебра и геометрия. Учеб. пособие для вузов. — 2-е изд. — М.: Наука, Главная редакция физико-математической литературы, 1986.\n",
    "3. Шерстнева А. И., Янущик О. В. Линейные пространства. Линейные операторы: учебное пособие. Томск: Изд-во Томского политехнического университета, 2010."
   ]
  },
  {
   "cell_type": "markdown",
   "metadata": {
    "colab_type": "text",
    "id": "Iv-T_NZAkVqZ"
   },
   "source": [
    "## Дополнительные материалы"
   ]
  },
  {
   "cell_type": "markdown",
   "metadata": {
    "colab_type": "text",
    "id": "9o_SiUNxkVqa"
   },
   "source": [
    "1. https://www.coursera.org/learn/mathematics-and-python/lecture/u49eQ/znakomstvo-s-linieinoi-alghiebroi\n",
    "2. https://www.coursera.org/learn/mathematics-and-python/lecture/bhdCb/viektornyie-prostranstva\n",
    "\n",
    "3. https://www.coursera.org/learn/mathematics-and-python/lecture/D5vpN/linieinaia-niezavisimost\n",
    "\n",
    "4. https://www.coursera.org/learn/mathematics-and-python/lecture/YkyGv/opieratsii-v-viektornykh-prostranstvakh\n",
    "5. https://www.coursera.org/learn/mathematics-and-python/lecture/EN8br/zachiem-nuzhny-matritsy\n",
    "6. https://www.coursera.org/learn/mathematics-and-python/lecture/BbZ96/rangh-i-opriedielitiel\n",
    "\n",
    "7. https://www.coursera.org/learn/mathematics-and-python/lecture/0pB0n/sistiemy-linieinykh-uravnienii\n",
    "\n",
    "8. https://www.coursera.org/learn/mathematics-and-python/lecture/wk3VL/osobyie-vidy-matrits\n",
    "\n",
    "9. https://www.coursera.org/learn/mathematics-and-python/lecture/oNF6m/sobstviennyie-chisla-i-viektory\n",
    "\n",
    "\n",
    "[Создание векторов в NumPy](http://docs.scipy.org/doc/numpy-1.10.1/user/basics.creation.html)"
   ]
  },
  {
   "cell_type": "markdown",
   "metadata": {},
   "source": [
    "Полезные ссылки \n",
    "\n",
    "\n",
    "*1. Сайт, на котором очень понятно объясняется аналитическая геометрия и линейная алгебра (слева есть меню, там можно выбирать темы): http://www.mathprofi.ru/vektory_dlya_chainikov.html*\n",
    "\n",
    "\n",
    "*2. Наглядное объяснение многих математических идей: https://brilliant.org/*\n",
    "\n",
    "*3.  Ещё один прекрасный в этом отношении канал: https://www.youtube.com/watch?v=fNk_zzaMoSs*"
   ]
  },
  {
   "cell_type": "code",
   "execution_count": null,
   "metadata": {},
   "outputs": [],
   "source": []
  }
 ],
 "metadata": {
  "colab": {
   "collapsed_sections": [],
   "name": "Copy of Lesson_1-REVISED.ipynb",
   "provenance": [],
   "toc_visible": true,
   "version": "0.3.2"
  },
  "kernelspec": {
   "display_name": "Python 3",
   "language": "python",
   "name": "python3"
  },
  "language_info": {
   "codemirror_mode": {
    "name": "ipython",
    "version": 3
   },
   "file_extension": ".py",
   "mimetype": "text/x-python",
   "name": "python",
   "nbconvert_exporter": "python",
   "pygments_lexer": "ipython3",
   "version": "3.7.6"
  }
 },
 "nbformat": 4,
 "nbformat_minor": 1
}
